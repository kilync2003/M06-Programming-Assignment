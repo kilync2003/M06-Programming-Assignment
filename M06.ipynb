{
 "cells": [
  {
   "cell_type": "code",
   "execution_count": null,
   "metadata": {},
   "outputs": [],
   "source": [
    "13.1\n",
    "date = datetime.datetime.now()\n",
    "file = open(\"today.txt\",\"w\")\n",
    "file.write(str(date))\n",
    "file.close()\n",
    "13.2\n",
    "file = open(\"today.txt\",\"r\")\n",
    "today_string = file.read()\n",
    "file.close()\n",
    "13.3\n",
    "parsedDate = datetime.datetime.strptime(today_string,\"%y-%m-%d\")"
   ]
  }
 ],
 "metadata": {
  "language_info": {
   "name": "python"
  }
 },
 "nbformat": 4,
 "nbformat_minor": 2
}
